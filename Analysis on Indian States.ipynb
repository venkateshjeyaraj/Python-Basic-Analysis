{
 "cells": [
  {
   "cell_type": "markdown",
   "metadata": {},
   "source": [
    "# <center>EDA on Indian States</center>"
   ]
  },
  {
   "cell_type": "code",
   "execution_count": 1,
   "metadata": {},
   "outputs": [],
   "source": [
    "import pandas as pd\n",
    "import numpy as np\n",
    "from pandas import Series, DataFrame\n",
    "import matplotlib.pyplot as plt\n",
    "import seaborn as sns\n",
    "from scipy.stats import norm\n",
    "from scipy import stats"
   ]
  },
  {
   "cell_type": "code",
   "execution_count": 2,
   "metadata": {},
   "outputs": [],
   "source": [
    "df = pd.read_csv('Indian_cities.csv',sep=',')"
   ]
  },
  {
   "cell_type": "code",
   "execution_count": 3,
   "metadata": {},
   "outputs": [
    {
     "data": {
      "text/plain": [
       "(493, 22)"
      ]
     },
     "execution_count": 3,
     "metadata": {},
     "output_type": "execute_result"
    }
   ],
   "source": [
    "df.shape"
   ]
  },
  {
   "cell_type": "code",
   "execution_count": 4,
   "metadata": {},
   "outputs": [
    {
     "data": {
      "text/html": [
       "<div>\n",
       "<style scoped>\n",
       "    .dataframe tbody tr th:only-of-type {\n",
       "        vertical-align: middle;\n",
       "    }\n",
       "\n",
       "    .dataframe tbody tr th {\n",
       "        vertical-align: top;\n",
       "    }\n",
       "\n",
       "    .dataframe thead th {\n",
       "        text-align: right;\n",
       "    }\n",
       "</style>\n",
       "<table border=\"1\" class=\"dataframe\">\n",
       "  <thead>\n",
       "    <tr style=\"text-align: right;\">\n",
       "      <th></th>\n",
       "      <th>state_code</th>\n",
       "      <th>dist_code</th>\n",
       "      <th>population_total</th>\n",
       "      <th>population_male</th>\n",
       "      <th>population_female</th>\n",
       "      <th>0-6_population_total</th>\n",
       "      <th>0-6_population_male</th>\n",
       "      <th>0-6_population_female</th>\n",
       "      <th>literates_total</th>\n",
       "      <th>literates_male</th>\n",
       "      <th>literates_female</th>\n",
       "      <th>sex_ratio</th>\n",
       "      <th>child_sex_ratio</th>\n",
       "      <th>effective_literacy_rate_total</th>\n",
       "      <th>effective_literacy_rate_male</th>\n",
       "      <th>effective_literacy_rate_female</th>\n",
       "      <th>total_graduates</th>\n",
       "      <th>male_graduates</th>\n",
       "      <th>female_graduates</th>\n",
       "    </tr>\n",
       "  </thead>\n",
       "  <tbody>\n",
       "    <tr>\n",
       "      <th>count</th>\n",
       "      <td>493.000000</td>\n",
       "      <td>493.000000</td>\n",
       "      <td>4.930000e+02</td>\n",
       "      <td>4.930000e+02</td>\n",
       "      <td>4.930000e+02</td>\n",
       "      <td>4.930000e+02</td>\n",
       "      <td>493.000000</td>\n",
       "      <td>493.000000</td>\n",
       "      <td>4.930000e+02</td>\n",
       "      <td>4.930000e+02</td>\n",
       "      <td>4.930000e+02</td>\n",
       "      <td>493.000000</td>\n",
       "      <td>493.000000</td>\n",
       "      <td>493.000000</td>\n",
       "      <td>493.000000</td>\n",
       "      <td>493.000000</td>\n",
       "      <td>4.930000e+02</td>\n",
       "      <td>4.930000e+02</td>\n",
       "      <td>4.930000e+02</td>\n",
       "    </tr>\n",
       "    <tr>\n",
       "      <th>mean</th>\n",
       "      <td>18.643002</td>\n",
       "      <td>16.782961</td>\n",
       "      <td>4.481124e+05</td>\n",
       "      <td>2.343468e+05</td>\n",
       "      <td>2.137656e+05</td>\n",
       "      <td>4.709285e+04</td>\n",
       "      <td>24849.527383</td>\n",
       "      <td>22243.320487</td>\n",
       "      <td>3.461527e+05</td>\n",
       "      <td>1.894384e+05</td>\n",
       "      <td>1.567143e+05</td>\n",
       "      <td>930.294118</td>\n",
       "      <td>902.332657</td>\n",
       "      <td>85.131460</td>\n",
       "      <td>89.920162</td>\n",
       "      <td>79.967181</td>\n",
       "      <td>6.620236e+04</td>\n",
       "      <td>3.771556e+04</td>\n",
       "      <td>2.848680e+04</td>\n",
       "    </tr>\n",
       "    <tr>\n",
       "      <th>std</th>\n",
       "      <td>9.297168</td>\n",
       "      <td>15.566131</td>\n",
       "      <td>1.033228e+06</td>\n",
       "      <td>5.487786e+05</td>\n",
       "      <td>4.848622e+05</td>\n",
       "      <td>1.050279e+05</td>\n",
       "      <td>55535.310272</td>\n",
       "      <td>49523.241379</td>\n",
       "      <td>8.220952e+05</td>\n",
       "      <td>4.534753e+05</td>\n",
       "      <td>3.690677e+05</td>\n",
       "      <td>55.849106</td>\n",
       "      <td>49.794689</td>\n",
       "      <td>6.186345</td>\n",
       "      <td>5.377492</td>\n",
       "      <td>7.577825</td>\n",
       "      <td>1.778187e+05</td>\n",
       "      <td>9.849574e+04</td>\n",
       "      <td>7.951556e+04</td>\n",
       "    </tr>\n",
       "    <tr>\n",
       "      <th>min</th>\n",
       "      <td>1.000000</td>\n",
       "      <td>1.000000</td>\n",
       "      <td>1.000360e+05</td>\n",
       "      <td>5.020100e+04</td>\n",
       "      <td>4.512600e+04</td>\n",
       "      <td>6.547000e+03</td>\n",
       "      <td>3406.000000</td>\n",
       "      <td>3107.000000</td>\n",
       "      <td>5.699800e+04</td>\n",
       "      <td>3.475100e+04</td>\n",
       "      <td>2.224700e+04</td>\n",
       "      <td>700.000000</td>\n",
       "      <td>762.000000</td>\n",
       "      <td>49.510000</td>\n",
       "      <td>52.270000</td>\n",
       "      <td>46.450000</td>\n",
       "      <td>2.532000e+03</td>\n",
       "      <td>1.703000e+03</td>\n",
       "      <td>8.290000e+02</td>\n",
       "    </tr>\n",
       "    <tr>\n",
       "      <th>25%</th>\n",
       "      <td>9.000000</td>\n",
       "      <td>7.000000</td>\n",
       "      <td>1.261420e+05</td>\n",
       "      <td>6.638400e+04</td>\n",
       "      <td>6.041100e+04</td>\n",
       "      <td>1.363900e+04</td>\n",
       "      <td>7221.000000</td>\n",
       "      <td>6457.000000</td>\n",
       "      <td>9.768700e+04</td>\n",
       "      <td>5.357800e+04</td>\n",
       "      <td>4.391400e+04</td>\n",
       "      <td>890.000000</td>\n",
       "      <td>868.000000</td>\n",
       "      <td>81.750000</td>\n",
       "      <td>87.280000</td>\n",
       "      <td>75.800000</td>\n",
       "      <td>1.527700e+04</td>\n",
       "      <td>9.289000e+03</td>\n",
       "      <td>6.114000e+03</td>\n",
       "    </tr>\n",
       "    <tr>\n",
       "      <th>50%</th>\n",
       "      <td>19.000000</td>\n",
       "      <td>13.000000</td>\n",
       "      <td>1.841330e+05</td>\n",
       "      <td>9.665500e+04</td>\n",
       "      <td>8.776800e+04</td>\n",
       "      <td>1.944000e+04</td>\n",
       "      <td>10342.000000</td>\n",
       "      <td>9172.000000</td>\n",
       "      <td>1.413290e+05</td>\n",
       "      <td>7.590600e+04</td>\n",
       "      <td>6.383600e+04</td>\n",
       "      <td>922.000000</td>\n",
       "      <td>903.000000</td>\n",
       "      <td>85.970000</td>\n",
       "      <td>91.180000</td>\n",
       "      <td>80.920000</td>\n",
       "      <td>2.395900e+04</td>\n",
       "      <td>1.404900e+04</td>\n",
       "      <td>9.558000e+03</td>\n",
       "    </tr>\n",
       "    <tr>\n",
       "      <th>75%</th>\n",
       "      <td>27.000000</td>\n",
       "      <td>21.000000</td>\n",
       "      <td>3.490330e+05</td>\n",
       "      <td>1.750550e+05</td>\n",
       "      <td>1.700260e+05</td>\n",
       "      <td>3.794500e+04</td>\n",
       "      <td>19982.000000</td>\n",
       "      <td>17954.000000</td>\n",
       "      <td>2.679000e+05</td>\n",
       "      <td>1.455480e+05</td>\n",
       "      <td>1.235030e+05</td>\n",
       "      <td>971.000000</td>\n",
       "      <td>942.000000</td>\n",
       "      <td>89.330000</td>\n",
       "      <td>93.400000</td>\n",
       "      <td>85.400000</td>\n",
       "      <td>5.036700e+04</td>\n",
       "      <td>2.787200e+04</td>\n",
       "      <td>2.086600e+04</td>\n",
       "    </tr>\n",
       "    <tr>\n",
       "      <th>max</th>\n",
       "      <td>35.000000</td>\n",
       "      <td>99.000000</td>\n",
       "      <td>1.247845e+07</td>\n",
       "      <td>6.736815e+06</td>\n",
       "      <td>5.741632e+06</td>\n",
       "      <td>1.209275e+06</td>\n",
       "      <td>647938.000000</td>\n",
       "      <td>561337.000000</td>\n",
       "      <td>1.023759e+07</td>\n",
       "      <td>5.727774e+06</td>\n",
       "      <td>4.509812e+06</td>\n",
       "      <td>1093.000000</td>\n",
       "      <td>1185.000000</td>\n",
       "      <td>98.800000</td>\n",
       "      <td>99.300000</td>\n",
       "      <td>98.310000</td>\n",
       "      <td>2.221137e+06</td>\n",
       "      <td>1.210040e+06</td>\n",
       "      <td>1.011097e+06</td>\n",
       "    </tr>\n",
       "  </tbody>\n",
       "</table>\n",
       "</div>"
      ],
      "text/plain": [
       "       state_code   dist_code  population_total  population_male  \\\n",
       "count  493.000000  493.000000      4.930000e+02     4.930000e+02   \n",
       "mean    18.643002   16.782961      4.481124e+05     2.343468e+05   \n",
       "std      9.297168   15.566131      1.033228e+06     5.487786e+05   \n",
       "min      1.000000    1.000000      1.000360e+05     5.020100e+04   \n",
       "25%      9.000000    7.000000      1.261420e+05     6.638400e+04   \n",
       "50%     19.000000   13.000000      1.841330e+05     9.665500e+04   \n",
       "75%     27.000000   21.000000      3.490330e+05     1.750550e+05   \n",
       "max     35.000000   99.000000      1.247845e+07     6.736815e+06   \n",
       "\n",
       "       population_female  0-6_population_total  0-6_population_male  \\\n",
       "count       4.930000e+02          4.930000e+02           493.000000   \n",
       "mean        2.137656e+05          4.709285e+04         24849.527383   \n",
       "std         4.848622e+05          1.050279e+05         55535.310272   \n",
       "min         4.512600e+04          6.547000e+03          3406.000000   \n",
       "25%         6.041100e+04          1.363900e+04          7221.000000   \n",
       "50%         8.776800e+04          1.944000e+04         10342.000000   \n",
       "75%         1.700260e+05          3.794500e+04         19982.000000   \n",
       "max         5.741632e+06          1.209275e+06        647938.000000   \n",
       "\n",
       "       0-6_population_female  literates_total  literates_male  \\\n",
       "count             493.000000     4.930000e+02    4.930000e+02   \n",
       "mean            22243.320487     3.461527e+05    1.894384e+05   \n",
       "std             49523.241379     8.220952e+05    4.534753e+05   \n",
       "min              3107.000000     5.699800e+04    3.475100e+04   \n",
       "25%              6457.000000     9.768700e+04    5.357800e+04   \n",
       "50%              9172.000000     1.413290e+05    7.590600e+04   \n",
       "75%             17954.000000     2.679000e+05    1.455480e+05   \n",
       "max            561337.000000     1.023759e+07    5.727774e+06   \n",
       "\n",
       "       literates_female    sex_ratio  child_sex_ratio  \\\n",
       "count      4.930000e+02   493.000000       493.000000   \n",
       "mean       1.567143e+05   930.294118       902.332657   \n",
       "std        3.690677e+05    55.849106        49.794689   \n",
       "min        2.224700e+04   700.000000       762.000000   \n",
       "25%        4.391400e+04   890.000000       868.000000   \n",
       "50%        6.383600e+04   922.000000       903.000000   \n",
       "75%        1.235030e+05   971.000000       942.000000   \n",
       "max        4.509812e+06  1093.000000      1185.000000   \n",
       "\n",
       "       effective_literacy_rate_total  effective_literacy_rate_male  \\\n",
       "count                     493.000000                    493.000000   \n",
       "mean                       85.131460                     89.920162   \n",
       "std                         6.186345                      5.377492   \n",
       "min                        49.510000                     52.270000   \n",
       "25%                        81.750000                     87.280000   \n",
       "50%                        85.970000                     91.180000   \n",
       "75%                        89.330000                     93.400000   \n",
       "max                        98.800000                     99.300000   \n",
       "\n",
       "       effective_literacy_rate_female  total_graduates  male_graduates  \\\n",
       "count                      493.000000     4.930000e+02    4.930000e+02   \n",
       "mean                        79.967181     6.620236e+04    3.771556e+04   \n",
       "std                          7.577825     1.778187e+05    9.849574e+04   \n",
       "min                         46.450000     2.532000e+03    1.703000e+03   \n",
       "25%                         75.800000     1.527700e+04    9.289000e+03   \n",
       "50%                         80.920000     2.395900e+04    1.404900e+04   \n",
       "75%                         85.400000     5.036700e+04    2.787200e+04   \n",
       "max                         98.310000     2.221137e+06    1.210040e+06   \n",
       "\n",
       "       female_graduates  \n",
       "count      4.930000e+02  \n",
       "mean       2.848680e+04  \n",
       "std        7.951556e+04  \n",
       "min        8.290000e+02  \n",
       "25%        6.114000e+03  \n",
       "50%        9.558000e+03  \n",
       "75%        2.086600e+04  \n",
       "max        1.011097e+06  "
      ]
     },
     "execution_count": 4,
     "metadata": {},
     "output_type": "execute_result"
    }
   ],
   "source": [
    "df.describe()"
   ]
  },
  {
   "cell_type": "code",
   "execution_count": 5,
   "metadata": {},
   "outputs": [
    {
     "data": {
      "text/plain": [
       "name_of_city                       object\n",
       "state_code                          int64\n",
       "state_name                         object\n",
       "dist_code                           int64\n",
       "population_total                    int64\n",
       "population_male                     int64\n",
       "population_female                   int64\n",
       "0-6_population_total                int64\n",
       "0-6_population_male                 int64\n",
       "0-6_population_female               int64\n",
       "literates_total                     int64\n",
       "literates_male                      int64\n",
       "literates_female                    int64\n",
       "sex_ratio                           int64\n",
       "child_sex_ratio                     int64\n",
       "effective_literacy_rate_total     float64\n",
       "effective_literacy_rate_male      float64\n",
       "effective_literacy_rate_female    float64\n",
       "location                           object\n",
       "total_graduates                     int64\n",
       "male_graduates                      int64\n",
       "female_graduates                    int64\n",
       "dtype: object"
      ]
     },
     "execution_count": 5,
     "metadata": {},
     "output_type": "execute_result"
    }
   ],
   "source": [
    "\n",
    "df.dtypes"
   ]
  },
  {
   "cell_type": "code",
   "execution_count": 8,
   "metadata": {},
   "outputs": [
    {
     "data": {
      "text/plain": [
       "Text(0.5,1,'Histogram of Sex-ratio')"
      ]
     },
     "execution_count": 8,
     "metadata": {},
     "output_type": "execute_result"
    },
    {
     "data": {
      "image/png": "[encoded data removed]",
      "text/plain": [
       "<Figure size 1080x576 with 1 Axes>"
      ]
     },
     "metadata": {},
     "output_type": "display_data"
    }
   ],
   "source": [
    "#Histogram of sex ratio\n",
    "\n",
    "figure = plt.figure(figsize=(15,8))\n",
    "plt.hist(df['sex_ratio'],color = 'olive',bins = 30)\n",
    "plt.xlabel('sex_ratio')\n",
    "plt.ylabel('count of cities')\n",
    "plt.title('Histogram of Sex-ratio')"
   ]
  },
  {
   "cell_type": "code",
   "execution_count": 9,
   "metadata": {},
   "outputs": [
    {
     "data": {
      "text/plain": [
       "Text(0.5,1,'Histogram of Child-Sex-ratio')"
      ]
     },
     "execution_count": 9,
     "metadata": {},
     "output_type": "execute_result"
    },
    {
     "data": {
      "image/png": "[encoded data removed]",
      "text/plain": [
       "<Figure size 1080x576 with 1 Axes>"
      ]
     },
     "metadata": {},
     "output_type": "display_data"
    }
   ],
   "source": [
    "#Child Sex Ratio\n",
    "figure = plt.figure(figsize=(15,8))\n",
    "plt.hist(df['child_sex_ratio'],color = 'skyblue',bins = 30)\n",
    "plt.xlabel('sex_ratio')\n",
    "plt.ylabel('count of cities')\n",
    "plt.title('Histogram of Child-Sex-ratio')"
   ]
  },
  {
   "cell_type": "code",
   "execution_count": 10,
   "metadata": {},
   "outputs": [
    {
     "name": "stderr",
     "output_type": "stream",
     "text": [
      "C:\\Users\\VJ\\Anaconda3\\lib\\site-packages\\scipy\\stats\\stats.py:1713: FutureWarning: Using a non-tuple sequence for multidimensional indexing is deprecated; use `arr[tuple(seq)]` instead of `arr[seq]`. In the future this will be interpreted as an array index, `arr[np.array(seq)]`, which will result either in an error or a different result.\n",
      "  return np.add.reduce(sorted[indexer] * weights, axis=axis) / sumval\n",
      "C:\\Users\\VJ\\Anaconda3\\lib\\site-packages\\matplotlib\\axes\\_axes.py:6571: UserWarning: The 'normed' kwarg is deprecated, and has been replaced by the 'density' kwarg.\n",
      "  warnings.warn(\"The 'normed' kwarg is deprecated, and has been \"\n"
     ]
    },
    {
     "data": {
      "text/plain": [
       "<matplotlib.axes._subplots.AxesSubplot at 0x2b40b0db278>"
      ]
     },
     "execution_count": 10,
     "metadata": {},
     "output_type": "execute_result"
    },
    {
     "data": {
      "image/png": "[encoded data removed]",
      "text/plain": [
       "<Figure size 432x288 with 1 Axes>"
      ]
     },
     "metadata": {},
     "output_type": "display_data"
    }
   ],
   "source": [
    "#distribution of child sex ratio\n",
    "sns.distplot(df['child_sex_ratio'],rug = True)\n"
   ]
  },
  {
   "cell_type": "code",
   "execution_count": 11,
   "metadata": {},
   "outputs": [
    {
     "data": {
      "text/html": [
       "<div>\n",
       "<style scoped>\n",
       "    .dataframe tbody tr th:only-of-type {\n",
       "        vertical-align: middle;\n",
       "    }\n",
       "\n",
       "    .dataframe tbody tr th {\n",
       "        vertical-align: top;\n",
       "    }\n",
       "\n",
       "    .dataframe thead th {\n",
       "        text-align: right;\n",
       "    }\n",
       "</style>\n",
       "<table border=\"1\" class=\"dataframe\">\n",
       "  <thead>\n",
       "    <tr style=\"text-align: right;\">\n",
       "      <th></th>\n",
       "      <th>name_of_city</th>\n",
       "      <th>state_code</th>\n",
       "      <th>state_name</th>\n",
       "      <th>dist_code</th>\n",
       "      <th>population_total</th>\n",
       "      <th>population_male</th>\n",
       "      <th>population_female</th>\n",
       "      <th>0-6_population_total</th>\n",
       "      <th>0-6_population_male</th>\n",
       "      <th>0-6_population_female</th>\n",
       "      <th>...</th>\n",
       "      <th>literates_female</th>\n",
       "      <th>sex_ratio</th>\n",
       "      <th>child_sex_ratio</th>\n",
       "      <th>effective_literacy_rate_total</th>\n",
       "      <th>effective_literacy_rate_male</th>\n",
       "      <th>effective_literacy_rate_female</th>\n",
       "      <th>location</th>\n",
       "      <th>total_graduates</th>\n",
       "      <th>male_graduates</th>\n",
       "      <th>female_graduates</th>\n",
       "    </tr>\n",
       "  </thead>\n",
       "  <tbody>\n",
       "    <tr>\n",
       "      <th>278</th>\n",
       "      <td>Kozhikode</td>\n",
       "      <td>32</td>\n",
       "      <td>KERALA</td>\n",
       "      <td>4</td>\n",
       "      <td>432097</td>\n",
       "      <td>206494</td>\n",
       "      <td>225603</td>\n",
       "      <td>41574</td>\n",
       "      <td>21208</td>\n",
       "      <td>20366</td>\n",
       "      <td>...</td>\n",
       "      <td>196582</td>\n",
       "      <td>1093</td>\n",
       "      <td>960</td>\n",
       "      <td>96.8</td>\n",
       "      <td>97.93</td>\n",
       "      <td>95.78</td>\n",
       "      <td>11.2587531,75.78041</td>\n",
       "      <td>61225</td>\n",
       "      <td>27701</td>\n",
       "      <td>33524</td>\n",
       "    </tr>\n",
       "  </tbody>\n",
       "</table>\n",
       "<p>1 rows × 22 columns</p>\n",
       "</div>"
      ],
      "text/plain": [
       "    name_of_city  state_code state_name  dist_code  population_total  \\\n",
       "278   Kozhikode           32     KERALA          4            432097   \n",
       "\n",
       "     population_male  population_female  0-6_population_total  \\\n",
       "278           206494             225603                 41574   \n",
       "\n",
       "     0-6_population_male  0-6_population_female        ...         \\\n",
       "278                21208                  20366        ...          \n",
       "\n",
       "     literates_female  sex_ratio  child_sex_ratio  \\\n",
       "278            196582       1093              960   \n",
       "\n",
       "     effective_literacy_rate_total  effective_literacy_rate_male  \\\n",
       "278                           96.8                         97.93   \n",
       "\n",
       "     effective_literacy_rate_female             location  total_graduates  \\\n",
       "278                           95.78  11.2587531,75.78041            61225   \n",
       "\n",
       "    male_graduates  female_graduates  \n",
       "278          27701             33524  \n",
       "\n",
       "[1 rows x 22 columns]"
      ]
     },
     "execution_count": 11,
     "metadata": {},
     "output_type": "execute_result"
    }
   ],
   "source": [
    "#City with highest sex ratio\n",
    "df.sort_values('sex_ratio',ascending = False)[:1]"
   ]
  },
  {
   "cell_type": "code",
   "execution_count": 12,
   "metadata": {},
   "outputs": [
    {
     "data": {
      "text/html": [
       "<div>\n",
       "<style scoped>\n",
       "    .dataframe tbody tr th:only-of-type {\n",
       "        vertical-align: middle;\n",
       "    }\n",
       "\n",
       "    .dataframe tbody tr th {\n",
       "        vertical-align: top;\n",
       "    }\n",
       "\n",
       "    .dataframe thead th {\n",
       "        text-align: right;\n",
       "    }\n",
       "</style>\n",
       "<table border=\"1\" class=\"dataframe\">\n",
       "  <thead>\n",
       "    <tr style=\"text-align: right;\">\n",
       "      <th></th>\n",
       "      <th>name_of_city</th>\n",
       "      <th>state_code</th>\n",
       "      <th>state_name</th>\n",
       "      <th>dist_code</th>\n",
       "      <th>population_total</th>\n",
       "      <th>population_male</th>\n",
       "      <th>population_female</th>\n",
       "      <th>0-6_population_total</th>\n",
       "      <th>0-6_population_male</th>\n",
       "      <th>0-6_population_female</th>\n",
       "      <th>...</th>\n",
       "      <th>literates_female</th>\n",
       "      <th>sex_ratio</th>\n",
       "      <th>child_sex_ratio</th>\n",
       "      <th>effective_literacy_rate_total</th>\n",
       "      <th>effective_literacy_rate_male</th>\n",
       "      <th>effective_literacy_rate_female</th>\n",
       "      <th>location</th>\n",
       "      <th>total_graduates</th>\n",
       "      <th>male_graduates</th>\n",
       "      <th>female_graduates</th>\n",
       "    </tr>\n",
       "  </thead>\n",
       "  <tbody>\n",
       "    <tr>\n",
       "      <th>89</th>\n",
       "      <td>Bhiwandi</td>\n",
       "      <td>27</td>\n",
       "      <td>MAHARASHTRA</td>\n",
       "      <td>21</td>\n",
       "      <td>711329</td>\n",
       "      <td>418478</td>\n",
       "      <td>292851</td>\n",
       "      <td>88613</td>\n",
       "      <td>45820</td>\n",
       "      <td>42793</td>\n",
       "      <td>...</td>\n",
       "      <td>192816</td>\n",
       "      <td>700</td>\n",
       "      <td>934</td>\n",
       "      <td>81.53</td>\n",
       "      <td>84.5</td>\n",
       "      <td>77.11</td>\n",
       "      <td>19.2812547,73.0482912</td>\n",
       "      <td>24688</td>\n",
       "      <td>14404</td>\n",
       "      <td>10284</td>\n",
       "    </tr>\n",
       "  </tbody>\n",
       "</table>\n",
       "<p>1 rows × 22 columns</p>\n",
       "</div>"
      ],
      "text/plain": [
       "   name_of_city  state_code   state_name  dist_code  population_total  \\\n",
       "89    Bhiwandi           27  MAHARASHTRA         21            711329   \n",
       "\n",
       "    population_male  population_female  0-6_population_total  \\\n",
       "89           418478             292851                 88613   \n",
       "\n",
       "    0-6_population_male  0-6_population_female        ...         \\\n",
       "89                45820                  42793        ...          \n",
       "\n",
       "    literates_female  sex_ratio  child_sex_ratio  \\\n",
       "89            192816        700              934   \n",
       "\n",
       "    effective_literacy_rate_total  effective_literacy_rate_male  \\\n",
       "89                          81.53                          84.5   \n",
       "\n",
       "    effective_literacy_rate_female               location  total_graduates  \\\n",
       "89                           77.11  19.2812547,73.0482912            24688   \n",
       "\n",
       "   male_graduates  female_graduates  \n",
       "89          14404             10284  \n",
       "\n",
       "[1 rows x 22 columns]"
      ]
     },
     "execution_count": 12,
     "metadata": {},
     "output_type": "execute_result"
    }
   ],
   "source": [
    "#City with lowest sex ratio\n",
    "df.sort_values('sex_ratio')[:1]"
   ]
  },
  {
   "cell_type": "code",
   "execution_count": 14,
   "metadata": {},
   "outputs": [
    {
     "data": {
      "text/plain": [
       "state_name\n",
       "HIMACHAL PRADESH              818.000000\n",
       "CHANDIGARH                    829.000000\n",
       "NCT OF DELHI                  861.533333\n",
       "HARYANA                       875.800000\n",
       "PUNJAB                        887.062500\n",
       "BIHAR                         887.884615\n",
       "ANDAMAN & NICOBAR ISLANDS     889.000000\n",
       "UTTAR PRADESH                 891.285714\n",
       "UTTARAKHAND                   892.333333\n",
       "JHARKHAND                     903.000000\n",
       "NAGALAND                      904.000000\n",
       "JAMMU & KASHMIR               907.666667\n",
       "RAJASTHAN                     908.517241\n",
       "GUJARAT                       913.172414\n",
       "MADHYA PRADESH                914.812500\n",
       "MAHARASHTRA                   920.511628\n",
       "ORISSA                        930.300000\n",
       "WEST BENGAL                   943.262295\n",
       "CHHATTISGARH                  950.222222\n",
       "ASSAM                         950.750000\n",
       "KARNATAKA                     987.115385\n",
       "ANDHRA PRADESH                999.404762\n",
       "TAMIL NADU                   1001.031250\n",
       "TRIPURA                      1002.000000\n",
       "MIZORAM                      1029.000000\n",
       "PUDUCHERRY                   1035.000000\n",
       "MEGHALAYA                    1042.000000\n",
       "MANIPUR                      1055.000000\n",
       "KERALA                       1066.714286\n",
       "Name: sex_ratio, dtype: float64"
      ]
     },
     "execution_count": 14,
     "metadata": {},
     "output_type": "execute_result"
    }
   ],
   "source": [
    "#Sex ratio of all states\n",
    "df['sex_ratio'].groupby(df['state_name']).mean().sort_values()"
   ]
  },
  {
   "cell_type": "code",
   "execution_count": 15,
   "metadata": {},
   "outputs": [
    {
     "data": {
      "text/html": [
       "<div>\n",
       "<style scoped>\n",
       "    .dataframe tbody tr th:only-of-type {\n",
       "        vertical-align: middle;\n",
       "    }\n",
       "\n",
       "    .dataframe tbody tr th {\n",
       "        vertical-align: top;\n",
       "    }\n",
       "\n",
       "    .dataframe thead th {\n",
       "        text-align: right;\n",
       "    }\n",
       "</style>\n",
       "<table border=\"1\" class=\"dataframe\">\n",
       "  <thead>\n",
       "    <tr style=\"text-align: right;\">\n",
       "      <th></th>\n",
       "      <th>sex_ratio</th>\n",
       "    </tr>\n",
       "    <tr>\n",
       "      <th>state_name</th>\n",
       "      <th></th>\n",
       "    </tr>\n",
       "  </thead>\n",
       "  <tbody>\n",
       "    <tr>\n",
       "      <th>HIMACHAL PRADESH</th>\n",
       "      <td>818.000000</td>\n",
       "    </tr>\n",
       "    <tr>\n",
       "      <th>CHANDIGARH</th>\n",
       "      <td>829.000000</td>\n",
       "    </tr>\n",
       "    <tr>\n",
       "      <th>NCT OF DELHI</th>\n",
       "      <td>861.533333</td>\n",
       "    </tr>\n",
       "    <tr>\n",
       "      <th>HARYANA</th>\n",
       "      <td>875.800000</td>\n",
       "    </tr>\n",
       "    <tr>\n",
       "      <th>PUNJAB</th>\n",
       "      <td>887.062500</td>\n",
       "    </tr>\n",
       "  </tbody>\n",
       "</table>\n",
       "</div>"
      ],
      "text/plain": [
       "                   sex_ratio\n",
       "state_name                  \n",
       "HIMACHAL PRADESH  818.000000\n",
       "CHANDIGARH        829.000000\n",
       "NCT OF DELHI      861.533333\n",
       "HARYANA           875.800000\n",
       "PUNJAB            887.062500"
      ]
     },
     "execution_count": 15,
     "metadata": {},
     "output_type": "execute_result"
    }
   ],
   "source": [
    "#States having lowest sex ratio\n",
    "data_sex = pd.DataFrame(df['sex_ratio'].groupby(df['state_name']).mean().sort_values()[:5])\n",
    "data_sex"
   ]
  },
  {
   "cell_type": "code",
   "execution_count": 17,
   "metadata": {},
   "outputs": [
    {
     "data": {
      "text/html": [
       "<div>\n",
       "<style scoped>\n",
       "    .dataframe tbody tr th:only-of-type {\n",
       "        vertical-align: middle;\n",
       "    }\n",
       "\n",
       "    .dataframe tbody tr th {\n",
       "        vertical-align: top;\n",
       "    }\n",
       "\n",
       "    .dataframe thead th {\n",
       "        text-align: right;\n",
       "    }\n",
       "</style>\n",
       "<table border=\"1\" class=\"dataframe\">\n",
       "  <thead>\n",
       "    <tr style=\"text-align: right;\">\n",
       "      <th></th>\n",
       "      <th>female_graduates</th>\n",
       "      <th>city_name</th>\n",
       "    </tr>\n",
       "    <tr>\n",
       "      <th>name_of_city</th>\n",
       "      <th></th>\n",
       "      <th></th>\n",
       "    </tr>\n",
       "  </thead>\n",
       "  <tbody>\n",
       "    <tr>\n",
       "      <th>Delhi</th>\n",
       "      <td>1011097</td>\n",
       "      <td>Delhi</td>\n",
       "    </tr>\n",
       "    <tr>\n",
       "      <th>Greater Mumbai</th>\n",
       "      <td>837407</td>\n",
       "      <td>Greater Mumbai</td>\n",
       "    </tr>\n",
       "    <tr>\n",
       "      <th>Bengaluru</th>\n",
       "      <td>682800</td>\n",
       "      <td>Bengaluru</td>\n",
       "    </tr>\n",
       "    <tr>\n",
       "      <th>Greater Hyderabad</th>\n",
       "      <td>478747</td>\n",
       "      <td>Greater Hyderabad</td>\n",
       "    </tr>\n",
       "    <tr>\n",
       "      <th>Chennai</th>\n",
       "      <td>392267</td>\n",
       "      <td>Chennai</td>\n",
       "    </tr>\n",
       "  </tbody>\n",
       "</table>\n",
       "</div>"
      ],
      "text/plain": [
       "                    female_graduates           city_name\n",
       "name_of_city                                            \n",
       "Delhi                        1011097              Delhi \n",
       "Greater Mumbai                837407     Greater Mumbai \n",
       "Bengaluru                     682800           Bengaluru\n",
       "Greater Hyderabad             478747  Greater Hyderabad \n",
       "Chennai                       392267            Chennai "
      ]
     },
     "execution_count": 17,
     "metadata": {},
     "output_type": "execute_result"
    }
   ],
   "source": [
    "#Best 5 cities with highest number of female graduates\n",
    "data_female_graduates_best_city = pd.DataFrame(df['female_graduates'].groupby(df['name_of_city']).mean().sort_values(ascending = False)[:5])\n",
    "data_female_graduates_best_city['city_name'] = data_female_graduates_best_city.index.values\n",
    "data_female_graduates_best_city"
   ]
  },
  {
   "cell_type": "code",
   "execution_count": 22,
   "metadata": {},
   "outputs": [],
   "source": [
    "#Best 5 cities with lowest number of female graduates\n",
    "data_female_graduates_worst_city = pd.DataFrame(df['female_graduates'].groupby(df['name_of_city']).mean().sort_values()[:5])\n",
    "data_female_graduates_worst_city['city_name'] = data_female_graduates_worst_city.index.values\n",
    "frames = [data_female_graduates_worst_city,data_female_graduates_best_city]\n"
   ]
  },
  {
   "cell_type": "code",
   "execution_count": 23,
   "metadata": {},
   "outputs": [
    {
     "data": {
      "text/html": [
       "<div>\n",
       "<style scoped>\n",
       "    .dataframe tbody tr th:only-of-type {\n",
       "        vertical-align: middle;\n",
       "    }\n",
       "\n",
       "    .dataframe tbody tr th {\n",
       "        vertical-align: top;\n",
       "    }\n",
       "\n",
       "    .dataframe thead th {\n",
       "        text-align: right;\n",
       "    }\n",
       "</style>\n",
       "<table border=\"1\" class=\"dataframe\">\n",
       "  <thead>\n",
       "    <tr style=\"text-align: right;\">\n",
       "      <th></th>\n",
       "      <th>female_graduates</th>\n",
       "      <th>city_name</th>\n",
       "    </tr>\n",
       "  </thead>\n",
       "  <tbody>\n",
       "    <tr>\n",
       "      <th>0</th>\n",
       "      <td>829</td>\n",
       "      <td>Dabgram</td>\n",
       "    </tr>\n",
       "    <tr>\n",
       "      <th>1</th>\n",
       "      <td>988</td>\n",
       "      <td>Bagaha</td>\n",
       "    </tr>\n",
       "    <tr>\n",
       "      <th>2</th>\n",
       "      <td>1475</td>\n",
       "      <td>Jamuria</td>\n",
       "    </tr>\n",
       "    <tr>\n",
       "      <th>3</th>\n",
       "      <td>1493</td>\n",
       "      <td>Pithampur</td>\n",
       "    </tr>\n",
       "    <tr>\n",
       "      <th>4</th>\n",
       "      <td>1512</td>\n",
       "      <td>Mustafabad</td>\n",
       "    </tr>\n",
       "    <tr>\n",
       "      <th>5</th>\n",
       "      <td>1011097</td>\n",
       "      <td>Delhi</td>\n",
       "    </tr>\n",
       "    <tr>\n",
       "      <th>6</th>\n",
       "      <td>837407</td>\n",
       "      <td>Greater Mumbai</td>\n",
       "    </tr>\n",
       "    <tr>\n",
       "      <th>7</th>\n",
       "      <td>682800</td>\n",
       "      <td>Bengaluru</td>\n",
       "    </tr>\n",
       "    <tr>\n",
       "      <th>8</th>\n",
       "      <td>478747</td>\n",
       "      <td>Greater Hyderabad</td>\n",
       "    </tr>\n",
       "    <tr>\n",
       "      <th>9</th>\n",
       "      <td>392267</td>\n",
       "      <td>Chennai</td>\n",
       "    </tr>\n",
       "  </tbody>\n",
       "</table>\n",
       "</div>"
      ],
      "text/plain": [
       "   female_graduates           city_name\n",
       "0               829            Dabgram \n",
       "1               988             Bagaha \n",
       "2              1475            Jamuria \n",
       "3              1493          Pithampur \n",
       "4              1512         Mustafabad \n",
       "5           1011097              Delhi \n",
       "6            837407     Greater Mumbai \n",
       "7            682800           Bengaluru\n",
       "8            478747  Greater Hyderabad \n",
       "9            392267            Chennai "
      ]
     },
     "execution_count": 23,
     "metadata": {},
     "output_type": "execute_result"
    }
   ],
   "source": [
    "#Top 5 and Bottom 5 cities concatenated\n",
    "df2 = pd.concat(frames,ignore_index = True) \n",
    "df2"
   ]
  },
  {
   "cell_type": "code",
   "execution_count": 24,
   "metadata": {},
   "outputs": [
    {
     "data": {
      "text/plain": [
       "array(['HIMACHAL PRADESH', 'CHANDIGARH', 'NCT OF DELHI', 'HARYANA',\n",
       "       'PUNJAB'], dtype=object)"
      ]
     },
     "execution_count": 24,
     "metadata": {},
     "output_type": "execute_result"
    }
   ],
   "source": [
    "data_sex.index.values"
   ]
  },
  {
   "cell_type": "code",
   "execution_count": 25,
   "metadata": {},
   "outputs": [],
   "source": [
    "# to covert index into column\n",
    "data_sex['state'] = data_sex.index.values "
   ]
  },
  {
   "cell_type": "code",
   "execution_count": 26,
   "metadata": {},
   "outputs": [
    {
     "data": {
      "text/plain": [
       "Text(0.5,1,'States having lowest Sex-Ratio')"
      ]
     },
     "execution_count": 26,
     "metadata": {},
     "output_type": "execute_result"
    },
    {
     "data": {
      "image/png": "[encoded data removed]",
      "text/plain": [
       "<Figure size 1080x576 with 1 Axes>"
      ]
     },
     "metadata": {},
     "output_type": "display_data"
    }
   ],
   "source": [
    "fig = plt.figure(figsize=(15,8))\n",
    "ax = fig.add_subplot(111)\n",
    "N = len(data_sex['sex_ratio'])\n",
    "y = data_sex['sex_ratio']\n",
    "x = range(N)\n",
    "plt.bar(x,y,width = 0.5,color = \"darkblue\")\n",
    "ax.set_xticklabels(data_sex['state'])\n",
    "ax.set_xlabel('states')\n",
    "ax.set_title('States having lowest Sex-Ratio')"
   ]
  },
  {
   "cell_type": "code",
   "execution_count": 27,
   "metadata": {},
   "outputs": [
    {
     "data": {
      "text/html": [
       "<div>\n",
       "<style scoped>\n",
       "    .dataframe tbody tr th:only-of-type {\n",
       "        vertical-align: middle;\n",
       "    }\n",
       "\n",
       "    .dataframe tbody tr th {\n",
       "        vertical-align: top;\n",
       "    }\n",
       "\n",
       "    .dataframe thead th {\n",
       "        text-align: right;\n",
       "    }\n",
       "</style>\n",
       "<table border=\"1\" class=\"dataframe\">\n",
       "  <thead>\n",
       "    <tr style=\"text-align: right;\">\n",
       "      <th></th>\n",
       "      <th>population_total</th>\n",
       "    </tr>\n",
       "    <tr>\n",
       "      <th>state_name</th>\n",
       "      <th></th>\n",
       "    </tr>\n",
       "  </thead>\n",
       "  <tbody>\n",
       "    <tr>\n",
       "      <th>ANDAMAN &amp; NICOBAR ISLANDS</th>\n",
       "      <td>100608</td>\n",
       "    </tr>\n",
       "    <tr>\n",
       "      <th>ANDHRA PRADESH</th>\n",
       "      <td>18171615</td>\n",
       "    </tr>\n",
       "    <tr>\n",
       "      <th>ASSAM</th>\n",
       "      <td>1391154</td>\n",
       "    </tr>\n",
       "    <tr>\n",
       "      <th>BIHAR</th>\n",
       "      <td>6714516</td>\n",
       "    </tr>\n",
       "    <tr>\n",
       "      <th>CHANDIGARH</th>\n",
       "      <td>960787</td>\n",
       "    </tr>\n",
       "    <tr>\n",
       "      <th>CHHATTISGARH</th>\n",
       "      <td>3137918</td>\n",
       "    </tr>\n",
       "    <tr>\n",
       "      <th>GUJARAT</th>\n",
       "      <td>17835049</td>\n",
       "    </tr>\n",
       "    <tr>\n",
       "      <th>HARYANA</th>\n",
       "      <td>5952223</td>\n",
       "    </tr>\n",
       "    <tr>\n",
       "      <th>HIMACHAL PRADESH</th>\n",
       "      <td>169758</td>\n",
       "    </tr>\n",
       "    <tr>\n",
       "      <th>JAMMU &amp; KASHMIR</th>\n",
       "      <td>1804987</td>\n",
       "    </tr>\n",
       "    <tr>\n",
       "      <th>JHARKHAND</th>\n",
       "      <td>4278259</td>\n",
       "    </tr>\n",
       "    <tr>\n",
       "      <th>KARNATAKA</th>\n",
       "      <td>15799896</td>\n",
       "    </tr>\n",
       "    <tr>\n",
       "      <th>KERALA</th>\n",
       "      <td>2755973</td>\n",
       "    </tr>\n",
       "    <tr>\n",
       "      <th>MADHYA PRADESH</th>\n",
       "      <td>11023091</td>\n",
       "    </tr>\n",
       "    <tr>\n",
       "      <th>MAHARASHTRA</th>\n",
       "      <td>37722136</td>\n",
       "    </tr>\n",
       "    <tr>\n",
       "      <th>MANIPUR</th>\n",
       "      <td>264986</td>\n",
       "    </tr>\n",
       "    <tr>\n",
       "      <th>MEGHALAYA</th>\n",
       "      <td>143007</td>\n",
       "    </tr>\n",
       "    <tr>\n",
       "      <th>MIZORAM</th>\n",
       "      <td>291822</td>\n",
       "    </tr>\n",
       "    <tr>\n",
       "      <th>NAGALAND</th>\n",
       "      <td>123777</td>\n",
       "    </tr>\n",
       "    <tr>\n",
       "      <th>NCT OF DELHI</th>\n",
       "      <td>13481997</td>\n",
       "    </tr>\n",
       "    <tr>\n",
       "      <th>ORISSA</th>\n",
       "      <td>3003234</td>\n",
       "    </tr>\n",
       "    <tr>\n",
       "      <th>PUDUCHERRY</th>\n",
       "      <td>541801</td>\n",
       "    </tr>\n",
       "    <tr>\n",
       "      <th>PUNJAB</th>\n",
       "      <td>5821876</td>\n",
       "    </tr>\n",
       "    <tr>\n",
       "      <th>RAJASTHAN</th>\n",
       "      <td>10443016</td>\n",
       "    </tr>\n",
       "    <tr>\n",
       "      <th>TAMIL NADU</th>\n",
       "      <td>13879395</td>\n",
       "    </tr>\n",
       "    <tr>\n",
       "      <th>TRIPURA</th>\n",
       "      <td>399688</td>\n",
       "    </tr>\n",
       "    <tr>\n",
       "      <th>UTTAR PRADESH</th>\n",
       "      <td>25302925</td>\n",
       "    </tr>\n",
       "    <tr>\n",
       "      <th>UTTARAKHAND</th>\n",
       "      <td>1340397</td>\n",
       "    </tr>\n",
       "    <tr>\n",
       "      <th>WEST BENGAL</th>\n",
       "      <td>18063509</td>\n",
       "    </tr>\n",
       "  </tbody>\n",
       "</table>\n",
       "</div>"
      ],
      "text/plain": [
       "                           population_total\n",
       "state_name                                 \n",
       "ANDAMAN & NICOBAR ISLANDS            100608\n",
       "ANDHRA PRADESH                     18171615\n",
       "ASSAM                               1391154\n",
       "BIHAR                               6714516\n",
       "CHANDIGARH                           960787\n",
       "CHHATTISGARH                        3137918\n",
       "GUJARAT                            17835049\n",
       "HARYANA                             5952223\n",
       "HIMACHAL PRADESH                     169758\n",
       "JAMMU & KASHMIR                     1804987\n",
       "JHARKHAND                           4278259\n",
       "KARNATAKA                          15799896\n",
       "KERALA                              2755973\n",
       "MADHYA PRADESH                     11023091\n",
       "MAHARASHTRA                        37722136\n",
       "MANIPUR                              264986\n",
       "MEGHALAYA                            143007\n",
       "MIZORAM                              291822\n",
       "NAGALAND                             123777\n",
       "NCT OF DELHI                       13481997\n",
       "ORISSA                              3003234\n",
       "PUDUCHERRY                           541801\n",
       "PUNJAB                              5821876\n",
       "RAJASTHAN                          10443016\n",
       "TAMIL NADU                         13879395\n",
       "TRIPURA                              399688\n",
       "UTTAR PRADESH                      25302925\n",
       "UTTARAKHAND                         1340397\n",
       "WEST BENGAL                        18063509"
      ]
     },
     "execution_count": 27,
     "metadata": {},
     "output_type": "execute_result"
    }
   ],
   "source": [
    "##population by states\n",
    "x = df.groupby('state_name').agg({'population_total':np.sum})\n",
    "x"
   ]
  },
  {
   "cell_type": "code",
   "execution_count": 29,
   "metadata": {},
   "outputs": [
    {
     "data": {
      "text/html": [
       "<div>\n",
       "<style scoped>\n",
       "    .dataframe tbody tr th:only-of-type {\n",
       "        vertical-align: middle;\n",
       "    }\n",
       "\n",
       "    .dataframe tbody tr th {\n",
       "        vertical-align: top;\n",
       "    }\n",
       "\n",
       "    .dataframe thead th {\n",
       "        text-align: right;\n",
       "    }\n",
       "</style>\n",
       "<table border=\"1\" class=\"dataframe\">\n",
       "  <thead>\n",
       "    <tr style=\"text-align: right;\">\n",
       "      <th></th>\n",
       "      <th>population_total</th>\n",
       "    </tr>\n",
       "    <tr>\n",
       "      <th>state_name</th>\n",
       "      <th></th>\n",
       "    </tr>\n",
       "  </thead>\n",
       "  <tbody>\n",
       "    <tr>\n",
       "      <th>MAHARASHTRA</th>\n",
       "      <td>37722136</td>\n",
       "    </tr>\n",
       "    <tr>\n",
       "      <th>UTTAR PRADESH</th>\n",
       "      <td>25302925</td>\n",
       "    </tr>\n",
       "    <tr>\n",
       "      <th>ANDHRA PRADESH</th>\n",
       "      <td>18171615</td>\n",
       "    </tr>\n",
       "    <tr>\n",
       "      <th>WEST BENGAL</th>\n",
       "      <td>18063509</td>\n",
       "    </tr>\n",
       "    <tr>\n",
       "      <th>GUJARAT</th>\n",
       "      <td>17835049</td>\n",
       "    </tr>\n",
       "    <tr>\n",
       "      <th>KARNATAKA</th>\n",
       "      <td>15799896</td>\n",
       "    </tr>\n",
       "    <tr>\n",
       "      <th>TAMIL NADU</th>\n",
       "      <td>13879395</td>\n",
       "    </tr>\n",
       "    <tr>\n",
       "      <th>NCT OF DELHI</th>\n",
       "      <td>13481997</td>\n",
       "    </tr>\n",
       "    <tr>\n",
       "      <th>MADHYA PRADESH</th>\n",
       "      <td>11023091</td>\n",
       "    </tr>\n",
       "    <tr>\n",
       "      <th>RAJASTHAN</th>\n",
       "      <td>10443016</td>\n",
       "    </tr>\n",
       "    <tr>\n",
       "      <th>BIHAR</th>\n",
       "      <td>6714516</td>\n",
       "    </tr>\n",
       "    <tr>\n",
       "      <th>HARYANA</th>\n",
       "      <td>5952223</td>\n",
       "    </tr>\n",
       "    <tr>\n",
       "      <th>PUNJAB</th>\n",
       "      <td>5821876</td>\n",
       "    </tr>\n",
       "    <tr>\n",
       "      <th>JHARKHAND</th>\n",
       "      <td>4278259</td>\n",
       "    </tr>\n",
       "    <tr>\n",
       "      <th>CHHATTISGARH</th>\n",
       "      <td>3137918</td>\n",
       "    </tr>\n",
       "    <tr>\n",
       "      <th>ORISSA</th>\n",
       "      <td>3003234</td>\n",
       "    </tr>\n",
       "    <tr>\n",
       "      <th>KERALA</th>\n",
       "      <td>2755973</td>\n",
       "    </tr>\n",
       "    <tr>\n",
       "      <th>JAMMU &amp; KASHMIR</th>\n",
       "      <td>1804987</td>\n",
       "    </tr>\n",
       "    <tr>\n",
       "      <th>ASSAM</th>\n",
       "      <td>1391154</td>\n",
       "    </tr>\n",
       "    <tr>\n",
       "      <th>UTTARAKHAND</th>\n",
       "      <td>1340397</td>\n",
       "    </tr>\n",
       "    <tr>\n",
       "      <th>CHANDIGARH</th>\n",
       "      <td>960787</td>\n",
       "    </tr>\n",
       "    <tr>\n",
       "      <th>PUDUCHERRY</th>\n",
       "      <td>541801</td>\n",
       "    </tr>\n",
       "    <tr>\n",
       "      <th>TRIPURA</th>\n",
       "      <td>399688</td>\n",
       "    </tr>\n",
       "    <tr>\n",
       "      <th>MIZORAM</th>\n",
       "      <td>291822</td>\n",
       "    </tr>\n",
       "    <tr>\n",
       "      <th>MANIPUR</th>\n",
       "      <td>264986</td>\n",
       "    </tr>\n",
       "    <tr>\n",
       "      <th>HIMACHAL PRADESH</th>\n",
       "      <td>169758</td>\n",
       "    </tr>\n",
       "    <tr>\n",
       "      <th>MEGHALAYA</th>\n",
       "      <td>143007</td>\n",
       "    </tr>\n",
       "    <tr>\n",
       "      <th>NAGALAND</th>\n",
       "      <td>123777</td>\n",
       "    </tr>\n",
       "    <tr>\n",
       "      <th>ANDAMAN &amp; NICOBAR ISLANDS</th>\n",
       "      <td>100608</td>\n",
       "    </tr>\n",
       "  </tbody>\n",
       "</table>\n",
       "</div>"
      ],
      "text/plain": [
       "                           population_total\n",
       "state_name                                 \n",
       "MAHARASHTRA                        37722136\n",
       "UTTAR PRADESH                      25302925\n",
       "ANDHRA PRADESH                     18171615\n",
       "WEST BENGAL                        18063509\n",
       "GUJARAT                            17835049\n",
       "KARNATAKA                          15799896\n",
       "TAMIL NADU                         13879395\n",
       "NCT OF DELHI                       13481997\n",
       "MADHYA PRADESH                     11023091\n",
       "RAJASTHAN                          10443016\n",
       "BIHAR                               6714516\n",
       "HARYANA                             5952223\n",
       "PUNJAB                              5821876\n",
       "JHARKHAND                           4278259\n",
       "CHHATTISGARH                        3137918\n",
       "ORISSA                              3003234\n",
       "KERALA                              2755973\n",
       "JAMMU & KASHMIR                     1804987\n",
       "ASSAM                               1391154\n",
       "UTTARAKHAND                         1340397\n",
       "CHANDIGARH                           960787\n",
       "PUDUCHERRY                           541801\n",
       "TRIPURA                              399688\n",
       "MIZORAM                              291822\n",
       "MANIPUR                              264986\n",
       "HIMACHAL PRADESH                     169758\n",
       "MEGHALAYA                            143007\n",
       "NAGALAND                             123777\n",
       "ANDAMAN & NICOBAR ISLANDS            100608"
      ]
     },
     "execution_count": 29,
     "metadata": {},
     "output_type": "execute_result"
    }
   ],
   "source": [
    "##maharashtra has highest total population in given dataset \n",
    "x.sort_values('population_total',ascending = False)\n"
   ]
  },
  {
   "cell_type": "code",
   "execution_count": 30,
   "metadata": {},
   "outputs": [
    {
     "name": "stderr",
     "output_type": "stream",
     "text": [
      "C:\\Users\\VJ\\Anaconda3\\lib\\site-packages\\scipy\\stats\\stats.py:1713: FutureWarning: Using a non-tuple sequence for multidimensional indexing is deprecated; use `arr[tuple(seq)]` instead of `arr[seq]`. In the future this will be interpreted as an array index, `arr[np.array(seq)]`, which will result either in an error or a different result.\n",
      "  return np.add.reduce(sorted[indexer] * weights, axis=axis) / sumval\n",
      "C:\\Users\\VJ\\Anaconda3\\lib\\site-packages\\matplotlib\\axes\\_axes.py:6571: UserWarning: The 'normed' kwarg is deprecated, and has been replaced by the 'density' kwarg.\n",
      "  warnings.warn(\"The 'normed' kwarg is deprecated, and has been \"\n"
     ]
    },
    {
     "data": {
      "image/png": "[encoded data removed]",
      "text/plain": [
       "<Figure size 432x288 with 1 Axes>"
      ]
     },
     "metadata": {},
     "output_type": "display_data"
    },
    {
     "data": {
      "image/png": "[encoded data removed]",
      "text/plain": [
       "<Figure size 432x288 with 1 Axes>"
      ]
     },
     "metadata": {},
     "output_type": "display_data"
    }
   ],
   "source": [
    "##plot of effective_literacy_rate_total\n",
    "sns.distplot(df['effective_literacy_rate_total'])\n",
    "fig = plt.figure()\n",
    "res = stats.probplot(df['effective_literacy_rate_total'], plot=plt)"
   ]
  },
  {
   "cell_type": "code",
   "execution_count": 32,
   "metadata": {},
   "outputs": [
    {
     "data": {
      "text/plain": [
       "<matplotlib.axes._subplots.AxesSubplot at 0x2b40e526748>"
      ]
     },
     "execution_count": 32,
     "metadata": {},
     "output_type": "execute_result"
    },
    {
     "data": {
      "image/png": "[encoded data removed]",
      "text/plain": [
       "<Figure size 864x648 with 2 Axes>"
      ]
     },
     "metadata": {},
     "output_type": "display_data"
    }
   ],
   "source": [
    "###heatmap of correlation matrix###\n",
    "corr = df.corr()\n",
    "fig,ax = plt.subplots(figsize = (12,9))\n",
    "sns.heatmap(corr,vmax = 1.9,cmap=\"YlGnBu\")"
   ]
  },
  {
   "cell_type": "code",
   "execution_count": 34,
   "metadata": {},
   "outputs": [
    {
     "name": "stderr",
     "output_type": "stream",
     "text": [
      "C:\\Users\\VJ\\Anaconda3\\lib\\site-packages\\scipy\\stats\\stats.py:1713: FutureWarning: Using a non-tuple sequence for multidimensional indexing is deprecated; use `arr[tuple(seq)]` instead of `arr[seq]`. In the future this will be interpreted as an array index, `arr[np.array(seq)]`, which will result either in an error or a different result.\n",
      "  return np.add.reduce(sorted[indexer] * weights, axis=axis) / sumval\n",
      "C:\\Users\\VJ\\Anaconda3\\lib\\site-packages\\matplotlib\\axes\\_axes.py:6571: UserWarning: The 'normed' kwarg is deprecated, and has been replaced by the 'density' kwarg.\n",
      "  warnings.warn(\"The 'normed' kwarg is deprecated, and has been \"\n",
      "C:\\Users\\VJ\\Anaconda3\\lib\\site-packages\\matplotlib\\axes\\_axes.py:6571: UserWarning: The 'normed' kwarg is deprecated, and has been replaced by the 'density' kwarg.\n",
      "  warnings.warn(\"The 'normed' kwarg is deprecated, and has been \"\n"
     ]
    },
    {
     "data": {
      "image/png": "[encoded data removed]",
      "text/plain": [
       "<Figure size 432x432 with 3 Axes>"
      ]
     },
     "metadata": {},
     "output_type": "display_data"
    }
   ],
   "source": [
    "# Scatterplot total population and Sex ratio\n",
    "sns.jointplot(np.sqrt(df['sex_ratio']),np.sqrt(df['population_total']),color='crimson');"
   ]
  },
  {
   "cell_type": "code",
   "execution_count": 35,
   "metadata": {},
   "outputs": [
    {
     "name": "stderr",
     "output_type": "stream",
     "text": [
      "C:\\Users\\VJ\\Anaconda3\\lib\\site-packages\\scipy\\stats\\stats.py:1713: FutureWarning: Using a non-tuple sequence for multidimensional indexing is deprecated; use `arr[tuple(seq)]` instead of `arr[seq]`. In the future this will be interpreted as an array index, `arr[np.array(seq)]`, which will result either in an error or a different result.\n",
      "  return np.add.reduce(sorted[indexer] * weights, axis=axis) / sumval\n",
      "C:\\Users\\VJ\\Anaconda3\\lib\\site-packages\\matplotlib\\axes\\_axes.py:6571: UserWarning: The 'normed' kwarg is deprecated, and has been replaced by the 'density' kwarg.\n",
      "  warnings.warn(\"The 'normed' kwarg is deprecated, and has been \"\n",
      "C:\\Users\\VJ\\Anaconda3\\lib\\site-packages\\matplotlib\\axes\\_axes.py:6571: UserWarning: The 'normed' kwarg is deprecated, and has been replaced by the 'density' kwarg.\n",
      "  warnings.warn(\"The 'normed' kwarg is deprecated, and has been \"\n"
     ]
    },
    {
     "data": {
      "image/png": "[encoded data removed]",
      "text/plain": [
       "<Figure size 432x432 with 3 Axes>"
      ]
     },
     "metadata": {},
     "output_type": "display_data"
    }
   ],
   "source": [
    "#Scatterplot between total graduates and female graduates shows that it is highly correlated\n",
    "with sns.axes_style(\"white\"):\n",
    "    sns.jointplot(df['female_graduates'],df['total_graduates'],color='darkgreen');"
   ]
  },
  {
   "cell_type": "code",
   "execution_count": 37,
   "metadata": {},
   "outputs": [
    {
     "name": "stderr",
     "output_type": "stream",
     "text": [
      "C:\\Users\\VJ\\Anaconda3\\lib\\site-packages\\scipy\\stats\\stats.py:1713: FutureWarning: Using a non-tuple sequence for multidimensional indexing is deprecated; use `arr[tuple(seq)]` instead of `arr[seq]`. In the future this will be interpreted as an array index, `arr[np.array(seq)]`, which will result either in an error or a different result.\n",
      "  return np.add.reduce(sorted[indexer] * weights, axis=axis) / sumval\n"
     ]
    },
    {
     "data": {
      "image/png": "[encoded data removed]",
      "text/plain": [
       "<Figure size 432x432 with 3 Axes>"
      ]
     },
     "metadata": {},
     "output_type": "display_data"
    }
   ],
   "source": [
    "#Kernel Density plot between child sex ratio and effective literacy rate total\n",
    "g = sns.jointplot(df['effective_literacy_rate_total'],df['child_sex_ratio'],color='r',kind = 'kde');\n",
    "g.plot_joint(plt.scatter, c=\"w\", s=5, linewidth=1, marker=\"+\")\n",
    "g.ax_joint.collections[0].set_alpha(0)\n",
    "g.set_axis_labels(\"$X$\", \"$Y$\");"
   ]
  },
  {
   "cell_type": "code",
   "execution_count": null,
   "metadata": {},
   "outputs": [],
   "source": []
  }
 ],
 "metadata": {
  "kernelspec": {
   "display_name": "Python 3",
   "language": "python",
   "name": "python3"
  },
  "language_info": {
   "codemirror_mode": {
    "name": "ipython",
    "version": 3
   },
   "file_extension": ".py",
   "mimetype": "text/x-python",
   "name": "python",
   "nbconvert_exporter": "python",
   "pygments_lexer": "ipython3",
   "version": "3.6.5"
  }
 },
 "nbformat": 4,
 "nbformat_minor": 2
}
